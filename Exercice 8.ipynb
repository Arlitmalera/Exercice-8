{
 "cells": [
  {
   "cell_type": "markdown",
   "id": "6814cf5f",
   "metadata": {},
   "source": [
    "1. Écrivez un programme Python pour lire un fichier texte entier .\n",
    "\n",
    "2. Écrivez un programme Python pour lire les n premières lignes d'un fichier.\n",
    "\n",
    "3. Écrivez un programme Python pour lire les n dernières lignes d'un fichier.\n",
    "\n",
    "4. Écrivez un programme Python qui prend un fichier texte en entrée et renvoie le nombre de mots d'un fichier texte donné.\n",
    "\n",
    "5. (Bonus) Écrivez un programme Python pour lire les n dernières lignes d'un fichier."
   ]
  },
  {
   "cell_type": "code",
   "execution_count": null,
   "id": "7ede054f",
   "metadata": {},
   "outputs": [],
   "source": [
    "fichier = open(\"chemin/vers/votre/fichier.txt\", \"r\")\n",
    "\n",
    "# Lire le contenu du fichier\n",
    "contenu = fichier.read()\n",
    "\n",
    "# Fermer le fichier\n",
    "fichier.close()\n",
    "\n",
    "# Afficher le contenu du fichier\n",
    "print(contenu)\n"
   ]
  },
  {
   "cell_type": "code",
   "execution_count": null,
   "id": "dc369123",
   "metadata": {},
   "outputs": [
    {
     "name": "stdout",
     "output_type": "stream",
     "text": [
      "Entrez le nom du fichier : je suis malera\n"
     ]
    }
   ],
   "source": [
    "filename = input(\"Entrez le nom du fichier : \")\n",
    "n = int(input(\"Entrez le nombre de lignes à lire : \"))\n",
    "\n",
    "with open(filename, 'r') as f:\n",
    "    for i in range(n):\n",
    "        line = f.readline()\n",
    "        if not line:\n",
    "            break\n",
    "        print(line.strip())"
   ]
  },
  {
   "cell_type": "code",
   "execution_count": null,
   "id": "fc006fab",
   "metadata": {},
   "outputs": [],
   "source": [
    "def read_last_n_lines(file_path, n):\n",
    "    with open(file_path, 'r') as file:\n",
    "        # Lire toutes les lignes du fichier\n",
    "        lines = file.readlines()\n",
    "\n",
    "        # Si le fichier est plus petit que le nombre de lignes demandé, on retourne toutes les lignes\n",
    "        if len(lines) <= n:\n",
    "            return lines\n",
    "\n",
    "        # Initialiser la fenêtre glissante\n",
    "        start = len(lines) - n\n",
    "        end = len(lines)\n",
    "\n",
    "        # Lire les dernières n lignes du fichier\n",
    "        last_n_lines = []\n",
    "        for i in range(start, end):\n",
    "            last_n_lines.append(lines[i])\n",
    "\n",
    "        return last_n_lines"
   ]
  },
  {
   "cell_type": "code",
   "execution_count": null,
   "id": "fdd44432",
   "metadata": {},
   "outputs": [],
   "source": [
    "with open('fichier.txt', 'r') as f:\n",
    "    # Lecture du contenu du fichier\n",
    "    contenu = f.read()\n",
    "    # Comptage des mots dans le contenu\n",
    "    nb_mots = len(contenu.split())\n",
    "    # Affichage du résultat\n",
    "    print(\"Nombre de mots dans le fichier :\", nb_mots)\n"
   ]
  },
  {
   "cell_type": "code",
   "execution_count": null,
   "id": "6b6e897b",
   "metadata": {},
   "outputs": [],
   "source": [
    "def read_last_n_lines(filename, n):\n",
    "    # Ouvre le fichier en mode lecture\n",
    "    with open(filename, 'r') as file:\n",
    "        # Lit toutes les lignes du fichier\n",
    "        lines = file.readlines()\n",
    "        # Calcule l'indice à partir duquel on va lire les n dernières lignes\n",
    "        start_index = len(lines) - n\n",
    "        # Vérifie que l'indice est positif\n",
    "        if start_index < 0:\n",
    "            start_index = 0\n",
    "        # Retourne les n dernières lignes\n",
    "        return lines[start_index:]\n",
    "\n",
    "# Exemple d'utilisation\n",
    "filename = 'mon_fichier.txt'\n",
    "n = 5\n",
    "last_lines = read_last_n_lines(filename, n)\n",
    "print(last_lines)\n"
   ]
  }
 ],
 "metadata": {
  "kernelspec": {
   "display_name": "Python 3 (ipykernel)",
   "language": "python",
   "name": "python3"
  },
  "language_info": {
   "codemirror_mode": {
    "name": "ipython",
    "version": 3
   },
   "file_extension": ".py",
   "mimetype": "text/x-python",
   "name": "python",
   "nbconvert_exporter": "python",
   "pygments_lexer": "ipython3",
   "version": "3.9.13"
  }
 },
 "nbformat": 4,
 "nbformat_minor": 5
}
